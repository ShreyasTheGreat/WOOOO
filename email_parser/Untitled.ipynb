{
 "cells": [
  {
   "cell_type": "code",
   "execution_count": 1,
   "metadata": {
    "collapsed": false
   },
   "outputs": [],
   "source": [
    "import json\n",
    "import numpy as np\n",
    "word_info = {}\n",
    "with open(\"out.txt\") as q:\n",
    "    messages = q.read().strip(\"\\n\").split(\"New Message:\")\n",
    "\n",
    "cleaned_messages=[]\n",
    "for message in messages:\n",
    "    cleaned_messages.append(message.split(\"Forwarded Message:\")[0])\n",
    "\n",
    "sentences = []\n",
    "for message in cleaned_messages:\n",
    "    sentences +=message.split(\".\")\n",
    "\n",
    "for sentence in sentences:\n",
    "    sentence = sentence.split()\n",
    "    for i in range(len(sentence)-1):\n",
    "        current_word=sentence[i].lower().replace(\"-\",\"\").replace(\"(\",\"\").replace(\")\",\"\").replace(\">\",\"\")\n",
    "        next_word=sentence[i+1].lower().replace(\"-\",\"\").replace(\"(\",\"\").replace(\")\",\"\").replace(\">\",\"\")\n",
    "        if not current_word in word_info.keys():\n",
    "            word_info[current_word]={}\n",
    "            word_info[current_word][\"count\"]=0\n",
    "        if not next_word in word_info[current_word].keys():\n",
    "            word_info[current_word][next_word]=0\n",
    "        word_info[current_word][next_word]+=1\n",
    "        word_info[current_word][\"count\"]+=1\n",
    "\n",
    "for word1,values in word_info.items():\n",
    "    if word_info[word1][\"count\"]<2:\n",
    "        word_info.pop(word1)\n",
    "    else:\n",
    "        for word2 in values.keys():\n",
    "            if word_info[word1][word2]<1:\n",
    "                words = word_info[word1]\n",
    "                words.pop(word2)\n",
    "                word_info[word1]=words\n",
    "\n",
    "with open(\"words_array.json\",\"w\") as f:\n",
    "    json.dump(word_info,f)\n"
   ]
  },
  {
   "cell_type": "code",
   "execution_count": null,
   "metadata": {
    "collapsed": true
   },
   "outputs": [],
   "source": []
  }
 ],
 "metadata": {
  "kernelspec": {
   "display_name": "Python 2",
   "language": "python",
   "name": "python2"
  },
  "language_info": {
   "codemirror_mode": {
    "name": "ipython",
    "version": 2
   },
   "file_extension": ".py",
   "mimetype": "text/x-python",
   "name": "python",
   "nbconvert_exporter": "python",
   "pygments_lexer": "ipython2",
   "version": "2.7.6"
  }
 },
 "nbformat": 4,
 "nbformat_minor": 0
}
